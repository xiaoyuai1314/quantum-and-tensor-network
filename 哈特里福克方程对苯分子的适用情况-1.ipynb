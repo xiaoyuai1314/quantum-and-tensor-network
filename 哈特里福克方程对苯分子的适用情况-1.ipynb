{
 "cells": [
  {
   "cell_type": "code",
   "execution_count": 1,
   "metadata": {},
   "outputs": [
    {
     "name": "stdout",
     "output_type": "stream",
     "text": [
      "(36, 36),(36, 36),(36, 36, 36, 36)\n"
     ]
    }
   ],
   "source": [
    "#读取文件中的相关积分的数值并保存\n",
    "import numpy as np\n",
    "H_core=np.load(\"D:\\\\python\\\\scf\\\\1e.npy..bin\")\n",
    "S_overlap=np.load(\"D:\\\\python\\\\scf\\\\S(1).npy..bin\")\n",
    "double_ele_integral=np.load(\"D:\\\\python\\\\scf\\\\2e(1).npy..bin\")#已经是对称，只用索引就行\n",
    "dimensions1=H_core.shape\n",
    "dimensions2=S_overlap.shape\n",
    "dimensions3=double_ele_integral.shape\n",
    "print('{},{},{}'.format(dimensions1,dimensions2,dimensions3))\n",
    "\n"
   ]
  },
  {
   "cell_type": "code",
   "execution_count": 2,
   "metadata": {},
   "outputs": [
    {
     "name": "stdout",
     "output_type": "stream",
     "text": [
      "(36, 36)\n"
     ]
    }
   ],
   "source": [
    "#对角化矩阵S,得到相关的转换矩阵,计算的前置条件\n",
    "l,U=np.linalg.eigh(S_overlap)\n",
    "s_1=np.zeros((36,36))\n",
    "for i in range(36):\n",
    "    s_1[i,i]=1.0/l[i]**0.5\n",
    "X_transfer=np.dot(np.dot(U,s_1),np.linalg.inv(U))\n",
    "X_adjoint=np.matrix.getH(X_transfer)\n",
    "P_density=np.zeros((36,36))\n",
    "print(X_transfer.shape)"
   ]
  },
  {
   "cell_type": "code",
   "execution_count": 3,
   "metadata": {},
   "outputs": [],
   "source": [
    "\n",
    "#G矩阵的获得，由密度矩阵对它进行更新，迭代计算是计算密度的更新？\n",
    "def G_two_elec_integral(density):\n",
    "    G_matrix=np.zeros(density.shape)\n",
    "    dim=density.shape[0]\n",
    "    for u in range(dim):\n",
    "        for v in range(dim):\n",
    "            a=0\n",
    "            for p in range(dim):\n",
    "                for q in range(dim):\n",
    "                  a+=density[p,q]*(double_ele_integral[u,v,p,q]-0.5*double_ele_integral[u,q,p,v])\n",
    "            G_matrix[u,v]=a\n",
    "    return G_matrix#a的作用是给变量赋值\n"
   ]
  },
  {
   "cell_type": "code",
   "execution_count": 4,
   "metadata": {},
   "outputs": [],
   "source": [
    "#得到新的密度矩阵P\n",
    "def calc_P_rhf(c_new):\n",
    "    density=np.zeros((36,36))\n",
    "    for i in range(36):\n",
    "        for j in range(36):\n",
    "            for m in range(21):#分子空间波函数的轨道索引\n",
    "                density[i,j]+=2*c_new[i,m]*c_new[j,m]\n",
    "    return density\n",
    "\n",
    "#能量计算\n",
    "def calc_E0_rhf(density,H_core,Fock):\n",
    "     H_F=H_core+Fock\n",
    "     E0=0.\n",
    "     for u in range(36):\n",
    "          for v in range(36):\n",
    "               E0+=density[v,u]*H_F[u,v]\n",
    "     E0*=0.5\n",
    "     return E0"
   ]
  },
  {
   "cell_type": "code",
   "execution_count": 5,
   "metadata": {},
   "outputs": [
    {
     "name": "stdout",
     "output_type": "stream",
     "text": [
      "**** iteration: 1 ****\n",
      "Etot:, 203.030749104\n",
      "**** iteration: 2 ****\n",
      "Etot:, -207.750933094\n",
      "**** iteration: 3 ****\n",
      "Etot:, -224.150755368\n",
      "**** iteration: 4 ****\n",
      "Etot:, -227.807417291\n",
      "**** iteration: 5 ****\n",
      "Etot:, -227.888457290\n",
      "**** iteration: 6 ****\n",
      "Etot:, -227.889382874\n",
      "**** iteration: 7 ****\n",
      "Etot:, -227.889408633\n",
      "**** iteration: 8 ****\n",
      "Etot:, -227.889409839\n",
      "**** iteration: 9 ****\n",
      "Etot:, -227.889409914\n",
      "**** iteration: 10 ****\n",
      "Etot:, -227.889409922\n"
     ]
    }
   ],
   "source": [
    "for i in range(10):\n",
    "    G_matrix = G_two_elec_integral(P_density)\n",
    "    Fock = H_core + G_matrix                                  \n",
    "    Fock_prime = X_adjoint.dot(Fock.dot(X_transfer))                \n",
    "    C,C_prime = np.linalg.eigh(Fock_prime)      \n",
    "    C_new = X_transfer.dot(C_prime)                \n",
    "    P_density_new = calc_P_rhf(C_new)\n",
    "    E0 = calc_E0_rhf(P_density, H_core, Fock)\n",
    "    P_density = P_density_new\n",
    "    E1 =203.030749104     \n",
    "    Etot = E0+E1 \n",
    " \n",
    "    print(\"**** iteration: {} ****\".format(i+1))\n",
    "    print(f\"Etot:, {Etot:.9f}\")\n"
   ]
  },
  {
   "cell_type": "code",
   "execution_count": 6,
   "metadata": {},
   "outputs": [
    {
     "data": {
      "text/plain": [
       "-227.88940774293218"
      ]
     },
     "execution_count": 6,
     "metadata": {},
     "output_type": "execute_result"
    }
   ],
   "source": [
    "#得到新的密度矩阵P\n",
    "density=np.zeros((36,36))\n",
    "for i in range(36):\n",
    "    for j in range(36):\n",
    "        for m in range(21):#分子空间波函数的轨道索引\n",
    "            density[i,j]+=2*C_new[i,m]*C_new[j,m]\n",
    "def calc_E0_rhf(density,H_core,Fock,):\n",
    "    H_F=H_core+Fock\n",
    "    E0=0.\n",
    "    for u in range(36):\n",
    "          for v in range(36):\n",
    "               E0+=density[v,u]*H_F[u,v]\n",
    "    E0*=0.5\n",
    "    return E0\n",
    "E0=calc_E0_rhf(density,H_core,Fock)+203.030749104     \n",
    "E0"
   ]
  },
  {
   "cell_type": "code",
   "execution_count": 7,
   "metadata": {},
   "outputs": [
    {
     "name": "stdout",
     "output_type": "stream",
     "text": [
      "[[ 2.07000907e+00 -2.10935005e-01  8.71289817e-04 ... -1.98859201e-03\n",
      "  -1.71675012e-02  2.71347460e-02]\n",
      " [-2.10935005e-01  8.00276885e-01 -1.01837856e-02 ...  7.15829685e-03\n",
      "   6.57928654e-02 -1.00116517e-01]\n",
      " [ 8.71289817e-04 -1.01837856e-02  6.06830210e-01 ...  2.21364631e-03\n",
      "  -4.16799836e-02  1.07956248e-01]\n",
      " ...\n",
      " [-1.98859201e-03  7.15829685e-03  2.21364631e-03 ...  6.02988683e-01\n",
      "  -7.04893081e-02 -3.95532238e-02]\n",
      " [-1.71675012e-02  6.57928654e-02 -4.16799836e-02 ... -7.04893081e-02\n",
      "   6.03036953e-01 -7.04684412e-02]\n",
      " [ 2.71347460e-02 -1.00116517e-01  1.07956248e-01 ... -3.95532238e-02\n",
      "  -7.04684412e-02  6.02988236e-01]]\n"
     ]
    },
    {
     "data": {
      "text/plain": [
       "(36, 36)"
      ]
     },
     "execution_count": 7,
     "metadata": {},
     "output_type": "execute_result"
    }
   ],
   "source": [
    "print(P_density_new)\n",
    "np.shape(P_density_new)     "
   ]
  },
  {
   "cell_type": "code",
   "execution_count": 8,
   "metadata": {},
   "outputs": [
    {
     "name": "stdout",
     "output_type": "stream",
     "text": [
      "[[-2.78368494e-01  5.79340289e-02 -6.25299389e-01 ... -8.89460322e-02\n",
      "   2.38493789e-04 -6.37049094e-02]\n",
      " [-9.19513961e-03  1.62094497e-03 -1.58210271e-02 ...  6.36015413e-01\n",
      "  -1.66966434e-03  4.81984916e-01]\n",
      " [-4.40651808e-04 -3.09434642e-03  6.06095348e-04 ...  2.16421489e-01\n",
      "  -6.56841224e-01  3.32577726e-01]\n",
      " ...\n",
      " [-4.70136820e-03  4.93772502e-04  4.96218668e-04 ...  2.64663819e-01\n",
      "   1.09755466e-03 -2.64410606e-01]\n",
      " [-2.53813648e-03  3.55820035e-03  1.72641365e-03 ...  5.55183371e-02\n",
      "  -1.08682135e-03  2.64306395e-01]\n",
      " [ 6.21567603e-04  2.80143788e-03  3.48347676e-03 ... -2.18434003e-01\n",
      "   1.39627792e-03 -2.64591486e-01]]\n"
     ]
    }
   ],
   "source": [
    "print(C_new)\n",
    "np.shape(C_new)\n",
    "np.save('xishu3',C_new)"
   ]
  },
  {
   "cell_type": "code",
   "execution_count": 9,
   "metadata": {},
   "outputs": [
    {
     "name": "stdout",
     "output_type": "stream",
     "text": [
      "[-11.02931047 -11.02929641 -11.02925699 -11.02894481 -11.0289381\n",
      " -11.02879229  -1.08911653  -0.95262022  -0.95257553  -0.76317549\n",
      "  -0.76312415  -0.65724266  -0.5875972   -0.55242565  -0.53040685\n",
      "  -0.53038757  -0.45572315  -0.4299568   -0.42986468  -0.27940633\n",
      "  -0.27933628   0.26924798   0.26933872   0.50428235   0.56473154\n",
      "   0.63647207   0.63659556   0.70674203   0.72600351   0.72606896\n",
      "   0.87494982   0.87504104   0.89399909   0.89417432   1.08777639\n",
      "   1.14436877]\n"
     ]
    }
   ],
   "source": [
    "#提取轨道能量并且保存出来\n",
    "print(C)\n",
    "np.save('energy',C)"
   ]
  },
  {
   "cell_type": "code",
   "execution_count": 10,
   "metadata": {},
   "outputs": [
    {
     "name": "stdout",
     "output_type": "stream",
     "text": [
      "[[-11.02931047 -11.02929641 -11.02925699 -11.02894481 -11.0289381 ]\n",
      " [-11.02879229  -1.08911653  -0.95262022  -0.95257553  -0.76317549]\n",
      " [ -0.76312415  -0.65724266  -0.5875972   -0.55242565  -0.53040685]\n",
      " [ -0.53038757  -0.45572315  -0.4299568   -0.42986468  -0.27940633]\n",
      " [ -0.27933628   0.26924798   0.26933872   0.50428235   0.56473154]\n",
      " [  0.63647207   0.63659556   0.70674203   0.72600351   0.72606896]\n",
      " [  0.87494982   0.87504104   0.89399909   0.89417432   1.08777639]\n",
      " [  1.14436877   0.           0.           0.           0.        ]]\n"
     ]
    }
   ],
   "source": [
    "\n",
    "newC_=np.pad(C,(0,4),mode='constant')\n",
    "b=newC_.reshape((8,5))\n",
    "print(b)\n"
   ]
  },
  {
   "cell_type": "code",
   "execution_count": 11,
   "metadata": {},
   "outputs": [
    {
     "name": "stdout",
     "output_type": "stream",
     "text": [
      "           0          1          2          3          4\n",
      "0 -11.029310 -11.029296 -11.029257 -11.028945 -11.028938\n",
      "1 -11.028792  -1.089117  -0.952620  -0.952576  -0.763175\n",
      "2  -0.763124  -0.657243  -0.587597  -0.552426  -0.530407\n",
      "3  -0.530388  -0.455723  -0.429957  -0.429865  -0.279406\n",
      "4  -0.279336   0.269248   0.269339   0.504282   0.564732\n",
      "5   0.636472   0.636596   0.706742   0.726004   0.726069\n",
      "6   0.874950   0.875041   0.893999   0.894174   1.087776\n",
      "7   1.144369   0.000000   0.000000   0.000000   0.000000\n"
     ]
    }
   ],
   "source": [
    "import pandas as pd\n",
    "df=pd.DataFrame(b)\n",
    "print(df)\n"
   ]
  }
 ],
 "metadata": {
  "kernelspec": {
   "display_name": "base",
   "language": "python",
   "name": "python3"
  },
  "language_info": {
   "codemirror_mode": {
    "name": "ipython",
    "version": 3
   },
   "file_extension": ".py",
   "mimetype": "text/x-python",
   "name": "python",
   "nbconvert_exporter": "python",
   "pygments_lexer": "ipython3",
   "version": "3.12.7"
  }
 },
 "nbformat": 4,
 "nbformat_minor": 2
}
