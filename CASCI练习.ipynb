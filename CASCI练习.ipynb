{
 "cells": [
  {
   "cell_type": "markdown",
   "metadata": {},
   "source": [
    "1.苯分子的CASCI练习"
   ]
  },
  {
   "cell_type": "code",
   "execution_count": 14,
   "metadata": {},
   "outputs": [
    {
     "data": {
      "text/plain": [
       "(36, 36, 36, 36)"
      ]
     },
     "execution_count": 14,
     "metadata": {},
     "output_type": "execute_result"
    }
   ],
   "source": [
    "#1.读取文件中的相关积分的数值并保存\n",
    "import numpy as np\n",
    "import math\n",
    "import itertools\n",
    "h1=np.load(\"D:\\\\python\\\\scf\\\\1e.npy..bin\")\n",
    "h2=np.load(\"D:\\\\python\\\\scf\\\\2e(1).npy..bin\")\n",
    "np.shape(h1)\n",
    "np.shape(h2)\n",
    "\n"
   ]
  },
  {
   "cell_type": "code",
   "execution_count": 15,
   "metadata": {},
   "outputs": [],
   "source": [
    "#2.将原子轨道积分表来表示分子轨道的积分\n",
    "cx=np.load(\"D:\\\\python\\\\scf\\\\xishu3.npy\")\n",
    "#print(xishu)尝试用函数形式来修改单双电子算符的积分\n",
    "h1_transformed = np.dot(cx.T, h1)\n",
    "h1m = np.dot(h1_transformed, cx)\n",
    "#双电子积分项的转换，这里必须得使用einsum函数来简化计算过程，优化代码。\n",
    "def double(cx,h2):\n",
    "    T = np.einsum('mp,mnlk->pnlk', cx, h2)  # 结果维度 (P, N, L, K)\n",
    "    A = np.einsum('nq,pnlk->pqlk', cx, T)\n",
    "    B = np.einsum('lr,pqlk->pqrk', cx, A)\n",
    "    D = np.einsum('ks,pqrk->pqrs', cx, B)\n",
    "    return D\n",
    "h2m=double(cx,h2)\n",
    "#测试\n",
    "np.shape(h1m)\n",
    "np.shape(h2m)\n",
    "np.save('h2m',h2m)"
   ]
  },
  {
   "cell_type": "code",
   "execution_count": 16,
   "metadata": {},
   "outputs": [
    {
     "data": {
      "text/plain": [
       "-227.88940992315554"
      ]
     },
     "execution_count": 16,
     "metadata": {},
     "output_type": "execute_result"
    }
   ],
   "source": [
    "#测试\n",
    "def E0(h1m,h2m):\n",
    "    E0=0.0\n",
    "    for i in range(21):\n",
    "        E0+=h1m[i,i]\n",
    "    E0=E0*2\n",
    "    for i in range(21):\n",
    "        for j in range(21):\n",
    "            E0+=2*h2m[i,i,j,j]-h2m[i,j,j,i]\n",
    "    return E0\n",
    "E0=E0(h1m,h2m)\n",
    "E1 =203.030749104     \n",
    "Etot = E0+E1 \n",
    "Etot   "
   ]
  },
  {
   "cell_type": "code",
   "execution_count": 17,
   "metadata": {},
   "outputs": [
    {
     "name": "stdout",
     "output_type": "stream",
     "text": [
      "-424.57859283365116\n"
     ]
    }
   ],
   "source": [
    "#3.冻结核能量计算\n",
    "#这里的错误是对活性空间的索引序号。活性空间的轨道索引应该是[17,20-24]但在python上应该写成16,19,20,21,22,23\n",
    "active_orbitals = [16,19,20,21,22,23]\n",
    "frozen_orbitals = list(range(16)) + [17, 18]#注意对冻结空间，与活性空间的标号\n",
    "h1_active = h1m[np.ix_(active_orbitals, active_orbitals)]#初始化活性空间的单电子积分\n",
    "h2_active = h2m[np.ix_(active_orbitals,active_orbitals,active_orbitals,active_orbitals)]\n",
    "#冻结核能量计算\n",
    "def E_fc(h1m,h2m):\n",
    "    frozen_orbitals = list(range(16)) + [17, 18]#冻结核的轨道索引\n",
    "    E0=0.0\n",
    "    for i in frozen_orbitals:\n",
    "        E0+=2*h1m[i,i]\n",
    "        for j in frozen_orbitals:\n",
    "           E0+=2*h2m[i,i,j,j]-h2m[i,j,j,i]\n",
    "    return E0\n",
    "E_fc=E_fc(h1m,h2m)\n",
    "print(E_fc)\n",
    "np.save('h2_active',h2_active)\n",
    "\n",
    "#density=calc_P_rhf(cx)\n"
   ]
  },
  {
   "cell_type": "code",
   "execution_count": 18,
   "metadata": {},
   "outputs": [
    {
     "name": "stdout",
     "output_type": "stream",
     "text": [
      "修正后的活性空间单电子积分矩阵:\n"
     ]
    }
   ],
   "source": [
    "#4.活性空间中对单电子积分项的修改，以及双电子积分项得截取\n",
    "#h_active = h_AO[np.ix_(active_orbitals, active_orbitals)]对应着np.ix函数\n",
    "# 活性空间单电子积分修正\n",
    "frozen_orbitals = list(range(16)) + [17, 18]#注意对冻结空间，与活性空间的标号\n",
    "def single_correction(h1_active, frozen_orbitals, active_orbitals, h2m):\n",
    "    n_active = len(active_orbitals)\n",
    "    h1_active_correction = np.zeros((n_active, n_active))  # 修正矩阵\n",
    "    for p, i in enumerate(active_orbitals):  # i是全局轨道，p是局部索引\n",
    "        for q, j in enumerate(active_orbitals):  # j是全局轨道，q是局部索引\n",
    "            correction = 0.0\n",
    "            for m in frozen_orbitals:  # 遍历冻结轨道\n",
    "                correction += 2 * h2m[i, j, m, m] - h2m[i, m, m, j]\n",
    "            h1_active_correction[p, q] = correction  # 存储修正值\n",
    "    return h1_active + h1_active_correction  # 返回修正后的单电子积分\n",
    "h1_active_cor = single_correction(h1_active,frozen_orbitals,active_orbitals,h2m)\n",
    "print(\"修正后的活性空间单电子积分矩阵:\")\n",
    "h1_active_cor\n",
    "np.save('h1-_active_cor',h1_active_cor)"
   ]
  },
  {
   "cell_type": "code",
   "execution_count": 19,
   "metadata": {},
   "outputs": [],
   "source": [
    "#5. Compare the excitation, i.e. the mismatching orbital indices\n",
    "def compare_excitation(left_indices, right_indices):\n",
    "    left_indices_set = set(left_indices)\n",
    "    right_indices_set = set(right_indices)\n",
    "\n",
    "    # elements in the left set that are not elements in the right one\n",
    "    unique_from_left = left_indices_set - right_indices_set#注意集合元素的差集的定义，得到的是左边有而右边没有的元素\n",
    "    unique_from_right = right_indices_set - left_indices_set\n",
    "    return (unique_from_left, unique_from_right)   "
   ]
  },
  {
   "cell_type": "code",
   "execution_count": 20,
   "metadata": {},
   "outputs": [
    {
     "name": "stdout",
     "output_type": "stream",
     "text": [
      "({'0', '4'}, {'5', '6'})\n"
     ]
    }
   ],
   "source": [
    "a=compare_excitation('01234','12356')\n",
    "print(a)"
   ]
  },
  {
   "cell_type": "code",
   "execution_count": 21,
   "metadata": {},
   "outputs": [
    {
     "name": "stdout",
     "output_type": "stream",
     "text": [
      "({'0'}, {'5'})\n"
     ]
    }
   ],
   "source": [
    "b=compare_excitation('012','215')\n",
    "print(b)\n",
    "                     "
   ]
  },
  {
   "cell_type": "code",
   "execution_count": 22,
   "metadata": {},
   "outputs": [],
   "source": [
    "#6.相位因子的获取\n",
    "def phase_factor(excitation, left_indices, right_indices):\n",
    "    indices_swap = 0\n",
    "    left_excitation, right_excitation = excitation\n",
    "\n",
    "    # check the left and right indices are in ascending order\n",
    "    assert(sorted(left_indices) and sorted(right_indices))\n",
    "\n",
    "    # check the excitations are in ascending order\n",
    "    assert((sorted(left_excitation) or len(left_excitation) == 0)\n",
    "           and (sorted(right_excitation) or len(right_excitation) == 0))\n",
    "\n",
    "    # For a list of numbers in ascending order (which is checked in the assertions above), the number of swaps needed\n",
    "    # to move a number to the head of the list is determined by its index in the list. e.g. in the following list\n",
    "    # 1 4 5 6 8\n",
    "    #       ^\n",
    "    # 0 1 2 3 4  <---- index of the list in python\n",
    "    # you need three 2-cycles to move 6 to the head of the list.\n",
    "    # If you have two or more numbers, you need to remove the redundant swapping to keep the operators\n",
    "    # corresponding to excited orbitals in ascending order. e.g.\n",
    "    # 1 4 5 6 8\n",
    "    #       ^ ^\n",
    "    # 0 1 2 3 4  <---- index of the list in python\n",
    "    # to move the two numbers we first add the indices of two numbers in the list to get the number of swaps for the\n",
    "    # list\n",
    "    # 8 6 1 4 5\n",
    "    # and one step is redundant because we had 8 before 6, to correct this we subtract 1 from the number of swaps to\n",
    "    # represent\n",
    "    # 6 8 1 4 5\n",
    "    # and this subtraction corresponds to the index of the excitation orbital in excitation list.\n",
    "    for index, orbital_index in enumerate(left_excitation):\n",
    "        indices_swap += left_indices.index(orbital_index) - index\n",
    "\n",
    "    for index, orbital_index in enumerate(right_excitation):\n",
    "        indices_swap += right_indices.index(orbital_index) - index\n",
    "\n",
    "    return math.pow(-1, indices_swap)\n"
   ]
  },
  {
   "cell_type": "code",
   "execution_count": 23,
   "metadata": {},
   "outputs": [],
   "source": [
    "#7.slaterg规则的编写，以及FCI矩阵的获取\n",
    "def ci_hamiltonian_in_sparse_matrix(one_electron_integrals, two_electron_integrals, n_elecs, n_spin = 0) :\n",
    "\n",
    "    n_rows, n_cols = one_electron_integrals.shape\n",
    "\n",
    "    n_orbs = n_rows\n",
    "\n",
    "    assert(n_rows == n_cols)\n",
    "    assert(np.all(np.array(two_electron_integrals.shape) == n_orbs))\n",
    "\n",
    "    n_alpha = (n_elecs + n_spin) // 2\n",
    "    n_beta = (n_elecs - n_spin) // 2\n",
    "\n",
    "    alpha_combinations = [list(x) for x in itertools.combinations(range(n_orbs), n_alpha)]\n",
    "    beta_combinations = [list(x) for x in itertools.combinations(range(n_orbs), n_beta)]\n",
    "\n",
    "    n_dim = len(alpha_combinations) * len(beta_combinations)\n",
    "\n",
    "    H_active = np.zeros((n_dim,n_dim))\n",
    "\n",
    "    for i in range(n_dim):\n",
    "        i_alpha_combination = alpha_combinations[i // len(beta_combinations)]#对α的索引是用i整除β串的余数\n",
    "        i_beta_combination = beta_combinations[i %  len(beta_combinations)]#对β的索引是地板除数\n",
    "\n",
    "        for j in range(i, n_dim):#保证避免重复j<i\n",
    "\n",
    "            j_alpha_combination = alpha_combinations[j // len(beta_combinations)]\n",
    "            j_beta_combination = beta_combinations[j % len(beta_combinations)]\n",
    "\n",
    "            alpha_excitation = compare_excitation(i_alpha_combination, j_alpha_combination)#左右两边α和β串的分开比较\n",
    "            beta_excitation = compare_excitation(i_beta_combination, j_beta_combination)\n",
    "\n",
    "            n_alpha_excitation = len(alpha_excitation[0])\n",
    "            n_beta_excitation = len(beta_excitation[0])\n",
    "\n",
    "            # more than two electrons are excited - the matrix element is zero\n",
    "            if n_alpha_excitation + n_beta_excitation > 2:\n",
    "                continue\n",
    "\n",
    "            # the phase factor for alpha and beta each\n",
    "            alpha_phase = phase_factor(alpha_excitation, i_alpha_combination, j_alpha_combination)\n",
    "            beta_phase = phase_factor(beta_excitation, i_beta_combination, j_beta_combination)\n",
    "\n",
    "            # I think of the alignment of the creation operators as something like\n",
    "            #  | beta |  | alpha |\n",
    "            #   1  3  5   2  5  6  |0>\n",
    "            total_phase_factor = alpha_phase * beta_phase # 确保此值是及时更新的\n",
    "\n",
    "            # No excitation, i.e. the Slater determinant is the same on the two sides\n",
    "            if n_alpha_excitation + n_beta_excitation == 0:#对应着情形一\n",
    "\n",
    "                one_electron_part = \\\n",
    "                    np.einsum(\"ii->\", one_electron_integrals[np.ix_(i_alpha_combination, i_alpha_combination)]) \\\n",
    "                    + np.einsum(\"ii->\", one_electron_integrals[np.ix_(i_beta_combination, i_beta_combination)])\n",
    "                    \n",
    "                # <ij | v | ij>, or (ii | jj). Non trivial contribution from configurations having\n",
    "                # the same spin for i and the same spin for j\n",
    "                \n",
    "                coulomb_part = \\\n",
    "                    np.einsum(\"iijj->\", two_electron_integrals[np.ix_(i_alpha_combination, i_alpha_combination,\n",
    "                                                                      i_beta_combination, i_beta_combination)]) \\\n",
    "                    + 0.5 * np.einsum(\"iijj->\", two_electron_integrals[np.ix_(i_alpha_combination, i_alpha_combination,\n",
    "                                                                              i_alpha_combination, i_alpha_combination)]) \\\n",
    "                    + 0.5 * np.einsum(\"iijj->\", two_electron_integrals[np.ix_(i_beta_combination, i_beta_combination,\n",
    "                                                                              i_beta_combination, i_beta_combination)])\n",
    "                # <ij | v | ji>, or (ij | ji).\n",
    "                # i and j must have the same spin, and thus the mixed spin terms are omitted\n",
    "                exchange_part = \\\n",
    "                    0.5 * np.einsum(\"ijji->\", two_electron_integrals[np.ix_(i_alpha_combination, i_alpha_combination,\n",
    "                                                                            i_alpha_combination, i_alpha_combination)]) + \\\n",
    "                    0.5 * np.einsum(\"ijji->\", two_electron_integrals[np.ix_(i_beta_combination, i_beta_combination,\n",
    "                                                                            i_beta_combination, i_beta_combination)])\n",
    "\n",
    "                element = one_electron_part + coulomb_part - exchange_part\n",
    "                H_active[i,j] = element*total_phase_factor\n",
    "\n",
    "            if n_alpha_excitation + n_beta_excitation == 1:\n",
    "                #集合中的.intersection用于返回两个或多个集合的交集\n",
    "                alpha_shared_orbitals = list(set(i_alpha_combination).intersection(set(j_alpha_combination)))\n",
    "                beta_shared_orbitals = list(set(i_beta_combination).intersection(set(j_beta_combination)))\n",
    "\n",
    "                concatenated = alpha_shared_orbitals + beta_shared_orbitals#将α电子和β电子的共享轨道拼接起来然后\n",
    "                                                                            #得到一个共同的轨道集合，后续在计算双电子积分时会用到\n",
    "\n",
    "                if n_alpha_excitation == 1:#处理α电子激发的情况\n",
    "\n",
    "                    index_a = list(alpha_excitation[0])[0]\n",
    "                    index_b = list(alpha_excitation[1])[0]\n",
    "\n",
    "                    # <a i | v | b i>, or (ab | ii).\n",
    "                    coulomb_submatrix = two_electron_integrals[np.ix_([index_a], [index_b], concatenated, concatenated)]\n",
    "\n",
    "                    # <a i | v | i b>, or (ai | ib).\n",
    "                    # a and i must have same spin (a and b are already have the same spin)\n",
    "                    exchange_submatrix = two_electron_integrals[\n",
    "                        np.ix_([index_a], alpha_shared_orbitals, alpha_shared_orbitals, [index_b])]\n",
    "\n",
    "                else:#处理β电子激发的情况\n",
    "                    index_a = list(beta_excitation[0])[0]\n",
    "                    index_b = list(beta_excitation[1])[0]\n",
    "\n",
    "                    coulomb_submatrix = two_electron_integrals[np.ix_([index_a], [index_b], concatenated, concatenated)]\n",
    "                    exchange_submatrix = two_electron_integrals[\n",
    "                        np.ix_([index_a], beta_shared_orbitals, beta_shared_orbitals, [index_b])]\n",
    "\n",
    "                element = \\\n",
    "                    one_electron_integrals[index_a, index_b] + \\\n",
    "                          np.einsum(\"ijkk->\", coulomb_submatrix) - np.einsum(\"ikkj->\", exchange_submatrix)\n",
    "\n",
    "                H_active[i,j] = total_phase_factor * element\n",
    "\n",
    "            if n_alpha_excitation == 2:#双重激发分成了三种情况，两个α电子激发的情况，两个β电子激发的情况，一个α一个β激发的情况\n",
    "                left_excitation, right_excitation = map(list, alpha_excitation)#对 beta_excitation 的每个元素调用 list 函数，将其转换为列表。例如，如果 beta_excitation = ((2, 3), (4, 5))，执行 map(list, beta_excitation) 的结果是 [ [2, 3], [4, 5] ]。\n",
    "\n",
    "\n",
    "                # <ab | v | xy> - <ab | v | yx>, or (ax | by) - (ay | bx)\n",
    "                element = two_electron_integrals[left_excitation[0], right_excitation[0],\n",
    "                                                 left_excitation[1], right_excitation[1]] \\\n",
    "                          - two_electron_integrals[left_excitation[0], right_excitation[1],\n",
    "                                                   left_excitation[1], right_excitation[0]]\n",
    "\n",
    "                H_active[i,j] = total_phase_factor * element\n",
    "\n",
    "            if n_beta_excitation == 2:\n",
    "                left_excitation, right_excitation = map(list, beta_excitation)\n",
    "\n",
    "                # <ab | v | xy> - <ab | v | yx>, or (ax | by) - (ay | bx)\n",
    "                element = two_electron_integrals[left_excitation[0], right_excitation[0],\n",
    "                                                 left_excitation[1], right_excitation[1]] \\\n",
    "                          - two_electron_integrals[left_excitation[0], right_excitation[1],\n",
    "                                                   left_excitation[1], right_excitation[0]]\n",
    "\n",
    "                H_active[i,j] = total_phase_factor * element\n",
    "\n",
    "            if n_alpha_excitation == 1 and n_beta_excitation == 1:\n",
    "                a = list(alpha_excitation[0])[0]\n",
    "                b = list(beta_excitation[0])[0]\n",
    "                x = list(alpha_excitation[1])[0]\n",
    "                y = list(beta_excitation[1])[0]\n",
    "\n",
    "                element = two_electron_integrals[a, x, b, y]\n",
    "\n",
    "                H_active[i,j] = total_phase_factor * element\n",
    "\n",
    "\n",
    "    return  H_active\n"
   ]
  },
  {
   "cell_type": "code",
   "execution_count": 24,
   "metadata": {},
   "outputs": [
    {
     "name": "stdout",
     "output_type": "stream",
     "text": [
      "E(state0) = -227.9952440578978\n",
      "E(state1) = -227.84865300100614\n"
     ]
    },
    {
     "data": {
      "text/plain": [
       "array([[-6.34156619e+00, -4.85724242e-06,  1.24287696e-06,\n",
       "         2.11172746e-08,  7.94679851e-06,  2.87326987e-06,\n",
       "        -1.17936325e-07, -6.29660490e-02,  2.18205661e-06,\n",
       "         1.08546884e-05],\n",
       "       [-4.85724242e-06, -6.04813205e+00,  3.54066555e-04,\n",
       "        -3.69127203e-05, -3.54182159e-04, -3.73171142e-02,\n",
       "        -1.65251291e-05, -8.92673040e-08,  3.30962414e-02,\n",
       "         1.74076997e-02],\n",
       "       [ 1.24287696e-06,  3.54066555e-04, -6.03638363e+00,\n",
       "        -1.41942524e-05,  2.56489348e-02,  3.54961636e-04,\n",
       "         3.93351097e-05, -1.41930795e-04,  1.74116518e-02,\n",
       "        -3.30997474e-02],\n",
       "       [ 2.11172746e-08, -3.69127203e-05, -1.41942524e-05,\n",
       "        -5.82882541e+00, -1.87071857e-05,  2.84804213e-05,\n",
       "         3.35200367e-07,  3.95202787e-06, -4.71293144e-05,\n",
       "         5.10173911e-06],\n",
       "       [ 7.94679851e-06, -3.54182159e-04,  2.56489348e-02,\n",
       "        -1.87071857e-05, -6.03640208e+00, -3.53468401e-04,\n",
       "         1.50218412e-05,  1.27903012e-04,  1.74094456e-02,\n",
       "        -3.30968666e-02],\n",
       "       [ 2.87326987e-06, -3.73171142e-02,  3.54961636e-04,\n",
       "         2.84804213e-05, -3.53468401e-04, -6.04799381e+00,\n",
       "         1.93110122e-05, -1.18538217e-05, -3.31028245e-02,\n",
       "        -1.74117608e-02],\n",
       "       [-1.17936325e-07, -1.65251291e-05,  3.93351097e-05,\n",
       "         3.35200367e-07,  1.50218412e-05,  1.93110122e-05,\n",
       "        -5.82876243e+00, -5.95787187e-06, -6.80323083e-07,\n",
       "        -5.29724108e-05],\n",
       "       [-6.29660490e-02, -8.92673040e-08, -1.41930795e-04,\n",
       "         3.95202787e-06,  1.27903012e-04, -1.18538217e-05,\n",
       "        -5.95787187e-06, -5.70242793e+00, -1.02965792e-06,\n",
       "        -7.37379823e-06],\n",
       "       [ 2.18205661e-06,  3.30962414e-02,  1.74116518e-02,\n",
       "        -4.71293144e-05,  1.74094456e-02, -3.31028245e-02,\n",
       "        -6.80323083e-07, -1.02965792e-06, -5.56306462e+00,\n",
       "        -2.73911944e-07],\n",
       "       [ 1.08546884e-05,  1.74076997e-02, -3.30997474e-02,\n",
       "         5.10173911e-06, -3.30968666e-02, -1.74117608e-02,\n",
       "        -5.29724108e-05, -7.37379823e-06, -2.73911944e-07,\n",
       "        -5.56300728e+00]])"
      ]
     },
     "execution_count": 24,
     "metadata": {},
     "output_type": "execute_result"
    }
   ],
   "source": [
    "#8.迭代对角化得到相应的不同能级的能量\n",
    "# 问题一：计算活性空间(6o,6e)（17,20-24号轨道, 3alphae, 3beta e) 时的state0，state1 的能量。\n",
    "from scipy.sparse.linalg import eigsh\n",
    "E1 =203.030749104 \n",
    "H_active=ci_hamiltonian_in_sparse_matrix(h1_active_cor,h2_active,6,n_spin=0)\n",
    "\n",
    "assert np.allclose(H_active, np.triu(H_active))\n",
    "#H = H_active + H_active.T - H_active.diagonal()\n",
    "H = H_active + H_active.T\n",
    "np.fill_diagonal(H , np.diag(H_active))#由上三角矩阵得到全对称矩阵\n",
    "eigenvalues, eigenvectors = eigsh(H, k=5, which='SA') \n",
    "sorted(eigenvalues)\n",
    "state0=E1+E_fc+eigenvalues[0]\n",
    "print('E(state0) =',state0)\n",
    "#可见整个的流程已经完成了，明显的bug已经除掉。现在的任务是怎样解决隐藏的bug\n",
    "state1=E1+E_fc+eigenvalues[1]\n",
    "print('E(state1) =',state1)\n",
    "\n",
    "H[:10,:10]"
   ]
  },
  {
   "cell_type": "code",
   "execution_count": 25,
   "metadata": {},
   "outputs": [
    {
     "name": "stdout",
     "output_type": "stream",
     "text": [
      "E(state0) = -227.8486530010061\n"
     ]
    }
   ],
   "source": [
    "#9.迭代对角化得到相应的不同能级的能量\n",
    "# 问题二：计算活性空间(6o,6e)（17,20-24号轨道, 4alphae, 2beta e) 时的state0，state1 的能量。\n",
    "from scipy.sparse.linalg import eigsh\n",
    "E1 =203.030749104 \n",
    "H_active=ci_hamiltonian_in_sparse_matrix(h1_active_cor,h2_active,6,n_spin=2)\n",
    "H = H_active + H_active.T\n",
    "np.fill_diagonal(H , np.diag(H_active))#由上三角矩阵得到全对称矩阵\n",
    "eigenvalues, eigenvectors = eigsh(H, k=5, which='SA') \n",
    "sorted(eigenvalues)\n",
    "state0=E1+E_fc+eigenvalues[0]\n",
    "print('E(state0) =',state0)\n"
   ]
  },
  {
   "cell_type": "code",
   "execution_count": 26,
   "metadata": {},
   "outputs": [],
   "source": [
    "# 4.利用Slater-Condon rules，通过对不同的slater态进行对比来对分子积分表进行索引。\n",
    "\n",
    "#def compute_hamiltonian_element(det1, det2, h1m, h2m):\n",
    "\n",
    "    #alpha1, beta1 = det1\n",
    "    #alpha2, beta2 = det2\n",
    "    \n",
    "    #if det1 == det2:  # Diagonal elements\n",
    "        # 1-electron contribution\n",
    "        #h1 = sum(h1e[p, q] for p in alpha1 for q in alpha1) + \\\n",
    "             #sum(h1e[p, q] for p in beta1 for q in beta1)\n",
    "        \n",
    "        # 2-electron contribution\n",
    "        #h2 = sum(h2e[p, q, r, s] for p in alpha1 for q in alpha1 for r in alpha1 for s in alpha1) + \\\n",
    "             #sum(h2e[p, q, r, s] for p in beta1 for q in beta1 for r in beta1 for s in beta1) + \\\n",
    "             #sum(h2e[p, q, r, s] for p in alpha1 for q in beta1 for r in alpha1 for s in beta1)\n",
    "        \n",
    "        #return h1 + 0.5 * h2\n",
    "    \n",
    "    # Off-diagonal elements\n",
    "    #return 0  \n",
    "\n",
    "# Construct the Hamiltonian matrix\n",
    "#H = np.zeros((12,12))\n",
    "#for i, det1 in enumerate(slater_dets):\n",
    "    #for j, det2 in enumerate(slater_dets):\n",
    "        #H[i, j] = compute_hamiltonian_element(det1, det2, h1e, h2e)\n",
    "\n",
    "# Diagonalize the Hamiltonian\n",
    "#eigenvalues, eigenvectors = np.linalg.eigh(H)\n",
    "\n",
    "# Extract the ground-state energy\n",
    "#ground_state_energy = eigenvalues[0]\n",
    "#ground_state_energy\n"
   ]
  }
 ],
 "metadata": {
  "kernelspec": {
   "display_name": "base",
   "language": "python",
   "name": "python3"
  },
  "language_info": {
   "codemirror_mode": {
    "name": "ipython",
    "version": 3
   },
   "file_extension": ".py",
   "mimetype": "text/x-python",
   "name": "python",
   "nbconvert_exporter": "python",
   "pygments_lexer": "ipython3",
   "version": "3.12.7"
  }
 },
 "nbformat": 4,
 "nbformat_minor": 2
}
